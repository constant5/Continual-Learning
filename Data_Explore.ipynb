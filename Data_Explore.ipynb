{
 "metadata": {
  "language_info": {
   "codemirror_mode": {
    "name": "ipython",
    "version": 3
   },
   "file_extension": ".py",
   "mimetype": "text/x-python",
   "name": "python",
   "nbconvert_exporter": "python",
   "pygments_lexer": "ipython3",
   "version": "3.7.0-final"
  },
  "orig_nbformat": 2,
  "kernelspec": {
   "name": "python3",
   "display_name": "Python 3"
  }
 },
 "nbformat": 4,
 "nbformat_minor": 2,
 "cells": [
  {
   "source": [
    "## Reddit Data Explore\n",
    "\n",
    "In this NB we explore the dataset contained in the **RC_2011-08.bz2** file.  This file contains a snapshot of all Reddit Posts from August 2011. We make use here of a the BZ2Reader class object located in the 'scripts' folder. "
   ],
   "cell_type": "markdown",
   "metadata": {}
  },
  {
   "cell_type": "code",
   "execution_count": 71,
   "metadata": {},
   "outputs": [
    {
     "output_type": "stream",
     "name": "stdout",
     "text": [
      "The autoreload extension is already loaded. To reload it, use:\n  %reload_ext autoreload\n"
     ]
    }
   ],
   "source": [
    "# load modules\n",
    "%load_ext autoreload\n",
    "%autoreload 2\n",
    "from scripts.BZ2Reader import BZ2Reader\n",
    "import seaborn as sns\n",
    "import os\n",
    "import glob\n",
    "from pprint import pprint\n",
    "%config InlineBackend.figure_format = \"png\"\n"
   ]
  },
  {
   "source": [
    "The class methods represent different ways of manipultating the file. "
   ],
   "cell_type": "markdown",
   "metadata": {}
  },
  {
   "cell_type": "code",
   "execution_count": 72,
   "metadata": {},
   "outputs": [],
   "source": [
    "bz2 = BZ2Reader(os.path.join('data','RC_2011-08.bz2'), max_lines=100)"
   ]
  },
  {
   "source": [
    "The simplest method is a generator that yields a dictionary with all attributes for each post in the dataset. "
   ],
   "cell_type": "markdown",
   "metadata": {}
  },
  {
   "cell_type": "code",
   "execution_count": 73,
   "metadata": {},
   "outputs": [
    {
     "output_type": "execute_result",
     "data": {
      "text/plain": [
       "{'link_id': 't3_j4zx3',\n",
       " 'score_hidden': False,\n",
       " 'score': 1,\n",
       " 'archived': True,\n",
       " 'author_flair_text': None,\n",
       " 'subreddit': 'fffffffuuuuuuuuuuuu',\n",
       " 'body': '\"$2, would you take that deal? I\\'d take that deal\"',\n",
       " 'author': 'DorkyDude',\n",
       " 'distinguished': None,\n",
       " 'parent_id': 't3_j4zx3',\n",
       " 'id': 'c298mtc',\n",
       " 'subreddit_id': 't5_2qqlo',\n",
       " 'controversiality': 0,\n",
       " 'gilded': 0,\n",
       " 'downs': 0,\n",
       " 'retrieved_on': 1427415708,\n",
       " 'name': 't1_c298mtc',\n",
       " 'ups': 1,\n",
       " 'edited': False,\n",
       " 'author_flair_css_class': None,\n",
       " 'created_utc': '1312156800'}"
      ]
     },
     "metadata": {},
     "execution_count": 73
    }
   ],
   "source": [
    "post_gen = bz2.read_lines()\n",
    "next(post_gen)"
   ]
  },
  {
   "source": [
    "A more advanced generator allows only yields specicif attributes. "
   ],
   "cell_type": "markdown",
   "metadata": {}
  },
  {
   "cell_type": "code",
   "execution_count": 74,
   "metadata": {},
   "outputs": [
    {
     "output_type": "execute_result",
     "data": {
      "text/plain": [
       "{'subreddit': 'motorcycles', 'body': 'Have you wrecked in them yet?'}"
      ]
     },
     "metadata": {},
     "execution_count": 74
    }
   ],
   "source": [
    "# the select_keys generator return only the specified attributes\n",
    "keys = ['subreddit', 'body']\n",
    "spec_post_gen = bz2.select_keys(keys = keys)\n",
    "next(spec_post_gen)"
   ]
  },
  {
   "source": [
    "It is also all possible to return a complete dictionary with subreddit as keys and list of all posts in that subreddit as values, be carefule with max_lines (selecting -1 for all posts will use a lot of memory) "
   ],
   "cell_type": "markdown",
   "metadata": {}
  },
  {
   "cell_type": "code",
   "execution_count": 75,
   "metadata": {
    "tags": []
   },
   "outputs": [],
   "source": [
    "\n",
    "keys = ['subreddit', 'body']\n",
    "bz2 = BZ2Reader(os.path.join('data','RC_2011-08.bz2'), keys=keys, max_lines=100)\n",
    "\n",
    "post_dict= bz2.build_structure()\n"
   ]
  },
  {
   "source": [
    "We can see the subbreddits with at least 5 posts. "
   ],
   "cell_type": "markdown",
   "metadata": {}
  },
  {
   "cell_type": "code",
   "execution_count": 76,
   "metadata": {
    "tags": []
   },
   "outputs": [
    {
     "output_type": "stream",
     "name": "stdout",
     "text": [
      "Number of subbreddits =  48\n\nPrinting subreddits with at least 5 posts\n\nfffffffuuuuuuuuuuuu  :  7\nAskReddit  :  10\n"
     ]
    }
   ],
   "source": [
    "print('Number of subbreddits = ', len(post_dict), end='\\n\\n')\n",
    "\n",
    "min_posts = 5\n",
    "print(f'Printing subreddits with at least {min_posts} posts', end ='\\n\\n')\n",
    "\n",
    "for k, v in post_dict.items():\n",
    "    if len(v) > min_posts:\n",
    "        print(k,' : ', len(v))"
   ]
  },
  {
   "source": [
    "We can also generate separate files for each subreedit with more than p_min posts. There is a tradeoff in memory v. disk writes with p_min and batch_save. "
   ],
   "cell_type": "markdown",
   "metadata": {}
  },
  {
   "cell_type": "code",
   "execution_count": 2,
   "metadata": {},
   "outputs": [
    {
     "output_type": "stream",
     "name": "stdout",
     "text": [
      "Initializing file for AskReddit\n",
      "Initializing file for pics\n",
      "Initializing file for gaming\n",
      "Initializing file for reddit.com\n",
      "Initializing file for fffffffuuuuuuuuuuuu\n",
      "Initializing file for funny\n",
      "Initializing file for politics\n",
      "Initializing file for starcraft\n",
      "Initializing file for IAmA\n",
      "Initializing file for atheism\n",
      "Initializing file for trees\n",
      "Initializing file for videos\n",
      "Initializing file for todayilearned\n",
      "Initializing file for WTF\n",
      "Initializing file for worldnews\n",
      "Initializing file for leagueoflegends\n",
      "Initializing file for Minecraft\n",
      "Initializing file for TwoXChromosomes\n",
      "Initializing file for Fitness\n",
      "Initializing file for tf2\n",
      "Initializing file for gonewild\n",
      "Initializing file for Android\n",
      "Initializing file for harrypotter\n",
      "Initializing file for mylittlepony\n",
      "Initializing file for guns\n",
      "Initializing file for technology\n",
      "Initializing file for explainlikeimfive\n",
      "Initializing file for soccer\n",
      "Initializing file for Music\n",
      "Initializing file for Libertarian\n",
      "Initializing file for askscience\n",
      "Initializing file for movies\n",
      "Initializing file for sex\n",
      "Initializing file for canada\n",
      "Initializing file for nfl\n",
      "Initializing file for wow\n",
      "Initializing file for malefashionadvice\n",
      "Initializing file for buildapc\n",
      "Initializing file for programming\n",
      "Initializing file for Christianity\n",
      "Initializing file for science\n",
      "Initializing file for motorcycles\n",
      "Initializing file for AdviceAnimals\n",
      "Initializing file for Frugal\n",
      "Initializing file for Economics\n",
      "Initializing file for loseit\n",
      "Initializing file for PoliticalDiscussion\n",
      "Initializing file for firstworldproblems\n",
      "Initializing file for unitedkingdom\n",
      "Initializing file for MensRights\n",
      "Initializing file for gameofthrones\n",
      "Initializing file for news\n",
      "Initializing file for books\n",
      "Initializing file for bicycling\n",
      "Initializing file for magicTCG\n",
      "Initializing file for doctorwho\n",
      "Initializing file for circlejerk\n",
      "Initializing file for anime\n",
      "Initializing file for relationship_advice\n",
      "Initializing file for photography\n",
      "Initializing file for relationships\n",
      "Initializing file for apple\n",
      "Initializing file for tf2trade\n",
      "Initializing file for DoesAnybodyElse\n",
      "Initializing file for scifi\n",
      "Initializing file for DebateReligion\n",
      "Initializing file for pokemon\n",
      "Initializing file for food\n",
      "Initializing file for australia\n",
      "Initializing file for HeroesofNewerth\n",
      "Initializing file for lgbt\n",
      "Initializing file for Random_Acts_Of_Pizza\n",
      "Initializing file for asoiaf\n",
      "Initializing file for DotA2\n",
      "Initializing file for fitnesscirclejerk\n",
      "Initializing file for linux\n",
      "Initializing file for Guitar\n",
      "Initializing file for baseball\n",
      "Initializing file for self\n",
      "Initializing file for techsupport\n",
      "Initializing file for Drugs\n",
      "Initializing file for aww\n",
      "Initializing file for gifs\n",
      "Initializing file for hockey\n",
      "Initializing file for battlefield3\n",
      "Initializing file for Metal\n",
      "Initializing file for keto\n",
      "Initializing file for conspiracy\n",
      "Initializing file for offbeat\n",
      "Initializing file for TrueReddit\n",
      "Initializing file for skyrim\n",
      "Initializing file for nyc\n",
      "Initializing file for CFB\n",
      "Initializing file for Diablo\n",
      "Initializing file for cars\n",
      "Initializing file for seduction\n",
      "Initializing file for gamernews\n",
      "Initializing file for gaymers\n",
      "Initializing file for MMA\n",
      "Initializing file for truegaming\n",
      "Initializing file for chicago\n",
      "Initializing file for fantasyfootball\n",
      "Initializing file for india\n",
      "Initializing file for nosleep\n",
      "Initializing file for sports\n",
      "Initializing file for Cooking\n",
      "Initializing file for hiphopheads\n",
      "Initializing file for amiugly\n",
      "Initializing file for nsfw\n",
      "Initializing file for startrek\n",
      "Initializing file for SquaredCircle\n",
      "Initializing file for DIY\n",
      "Initializing file for Eve\n",
      "Initializing file for swtor\n",
      "Initializing file for WeAreTheMusicMakers\n",
      "Initializing file for OkCupid\n",
      "Initializing file for toronto\n",
      "Initializing file for comics\n",
      "Initializing file for sysadmin\n",
      "Initializing file for geek\n"
     ]
    }
   ],
   "source": [
    "keys = ['subreddit', 'body']\n",
    "bz2 = BZ2Reader(os.path.join('data','RC_2011-08.bz2'), keys=keys, max_lines=-1)\n",
    "bz2.file_writer(dest='data', p_min=1e4, batch_save=1e2)"
   ]
  },
  {
   "source": [
    "After creating the individual files we check for length of each file and plot a value count distribution. \n",
    "Note the use of effiecient file length function([credit](https://stackoverflow.com/questions/845058/#how-to-get-line-count-of-a-large-file-cheaply-in-python))\n",
    "# "
   ],
   "cell_type": "markdown",
   "metadata": {}
  },
  {
   "cell_type": "code",
   "execution_count": 60,
   "metadata": {},
   "outputs": [
    {
     "output_type": "display_data",
     "data": {
      "text/plain": "<Figure size 360x360 with 1 Axes>",
      "image/png": "[encoded data removed]"
     },
     "metadata": {
      "needs_background": "light"
     }
    }
   ],
   "source": [
    "from glob import glob\n",
    "\n",
    "srs = glob(os.path.join('data', 'subreddits', '*.txt'))\n",
    "\n",
    "def rawcount(filename):\n",
    "    f = open(filename, 'rb')\n",
    "    lines = 0\n",
    "    buf_size = 1024 * 1024\n",
    "    read_f = f.raw.read\n",
    "\n",
    "    buf = read_f(buf_size)\n",
    "    while buf:\n",
    "        lines += buf.count(b'\\n')\n",
    "        buf = read_f(buf_size)\n",
    "\n",
    "    return lines\n",
    "\n",
    "b_limit = 1e6\n",
    "big_files = []\n",
    "m_limit = 1e5\n",
    "medium_files = []\n",
    "small_files = []\n",
    "\n",
    "text_counts = dict()\n",
    "for sr in srs:\n",
    "    reddit = sr.split('\\\\')[-1].replace('.txt', '') \n",
    "    # print(reddit, end = ' : ')\n",
    "    lines = rawcount(sr)\n",
    "    # print(lines, 'posts')\n",
    "    text_counts[reddit] = lines\n",
    "    if lines >= b_limit:\n",
    "        big_files.append(sr)\n",
    "    elif lines >= m_limit:\n",
    "        medium_files.append(sr)\n",
    "    elif sr:\n",
    "        small_files.append(sr)\n",
    "\n",
    "sns.displot(text_counts, bins=15, kind='hist', log_scale=True)\n",
    "plt.title('distribution of number of post per subreddit')\n",
    "plt.show()"
   ]
  },
  {
   "cell_type": "code",
   "execution_count": null,
   "metadata": {},
   "outputs": [],
   "source": []
  }
 ]
}