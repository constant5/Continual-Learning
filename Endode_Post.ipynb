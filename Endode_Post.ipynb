{
 "metadata": {
  "language_info": {
   "codemirror_mode": {
    "name": "ipython",
    "version": 3
   },
   "file_extension": ".py",
   "mimetype": "text/x-python",
   "name": "python",
   "nbconvert_exporter": "python",
   "pygments_lexer": "ipython3",
   "version": "3.7.0-final"
  },
  "orig_nbformat": 2,
  "kernelspec": {
   "name": "Python 3.7.0 64-bit ('topic-model-env': conda)",
   "display_name": "Python 3.7.0 64-bit ('topic-model-env': conda)",
   "metadata": {
    "interpreter": {
     "hash": "728521e66b4abda82148058f429f75546517819080561c712915dfe97d207d65"
    }
   }
  }
 },
 "nbformat": 4,
 "nbformat_minor": 2,
 "cells": [
  {
   "source": [
    "### BERT Encoding of Posts\n",
    "\n",
    "Here we will use a pretrained BERT Model to encode the Posts using the final output layer as an encoding"
   ],
   "cell_type": "markdown",
   "metadata": {}
  },
  {
   "cell_type": "code",
   "execution_count": 66,
   "metadata": {},
   "outputs": [
    {
     "output_type": "stream",
     "name": "stdout",
     "text": [
      "The autoreload extension is already loaded. To reload it, use:\n  %reload_ext autoreload\n"
     ]
    }
   ],
   "source": [
    "%load_ext autoreload\n",
    "%autoreload 2\n",
    "from scripts.extract_features import GetBertFeatures"
   ]
  },
  {
   "source": [
    "#### Define Inputs for initilizing initializing estimator"
   ],
   "cell_type": "markdown",
   "metadata": {}
  },
  {
   "cell_type": "code",
   "execution_count": 61,
   "metadata": {},
   "outputs": [],
   "source": [
    "test_input = os.path.join('tmp', 'input.txt')\n",
    "test_output = os.path.join('tmp', 'output.json')\n",
    "bert_config_file = os.path.join('bert_mini_uncased','bert_config.json')\n",
    "init_checkpoint = os.path.join('bert_mini_uncased','bert_model.ckpt')\n",
    "vocab_file = os.path.join('bert_mini_uncased','vocab.txt')"
   ]
  },
  {
   "source": [
    "The `GetBertFeatures` class builds the model on__init__"
   ],
   "cell_type": "markdown",
   "metadata": {}
  },
  {
   "cell_type": "code",
   "execution_count": 67,
   "metadata": {},
   "outputs": [],
   "source": [
    "vectorizer = GetBertFeatures(input_file= test_input,\n",
    "                             output_file= test_output,\n",
    "                             layers='-1',\n",
    "                             seq_length=128,\n",
    "                             bert_config_file=bert_config_file ,\n",
    "                             vocab_file=vocab_file,\n",
    "                             init_checkpoint=init_checkpoint)"
   ]
  },
  {
   "source": [
    "The `convert_to_features` method yields a vector embedding of individual posts"
   ],
   "cell_type": "markdown",
   "metadata": {}
  },
  {
   "cell_type": "code",
   "execution_count": 80,
   "metadata": {
    "tags": []
   },
   "outputs": [],
   "source": [
    "vec_gen = vectorizer.convert_to_features()"
   ]
  },
  {
   "source": [
    "This generator yields the post trasformed to a vector"
   ],
   "cell_type": "markdown",
   "metadata": {}
  },
  {
   "cell_type": "code",
   "execution_count": 81,
   "metadata": {
    "tags": []
   },
   "outputs": [
    {
     "output_type": "stream",
     "name": "stdout",
     "text": [
      "[-0.463173, -0.159603, 1.9565, 0.341824, 0.421802, -0.613343, -1.506933, -0.674291, 0.842588, -0.393275]\n",
      "[-0.359432, -0.063241, 1.281662, 0.076226, 0.659426, -1.233663, -1.507686, -0.188587, 0.190106, -0.794117]\n",
      "[0.332908, 1.034904, 0.838779, 0.505178, 0.362157, 0.761392, -1.443587, -2.065166, -0.102949, -1.085451]\n",
      "[0.487302, -0.672402, 0.599569, 1.197692, 1.469657, -1.423773, -0.354981, -0.115697, 0.750373, 0.192873]\n",
      "[0.829941, 0.322054, 2.46382, -0.167288, 2.014279, -1.004647, 0.117291, -0.560062, -0.267211, -0.025753]\n",
      "[-0.000649, 0.310008, 1.360931, -1.392847, 1.681241, -0.156414, -1.023423, -0.96999, -0.004425, -0.031278]\n",
      "[0.840852, 0.11255, 1.522156, 0.719283, 0.220633, 0.254441, -0.190087, -0.644255, -0.282868, 0.739447]\n",
      "[0.153805, -0.738327, 0.41146, -0.044258, 0.904648, 1.228417, -0.112736, -0.297963, -1.145912, -0.416677]\n",
      "[-0.039969, -0.295591, 1.147521, -0.045762, 0.207098, -1.054246, -0.565878, -0.356857, 0.738339, -0.631919]\n"
     ]
    }
   ],
   "source": [
    "for i in vec_gen:\n",
    "    print(i[:10])"
   ]
  },
  {
   "source": [
    "### Next Steps\n",
    "\n",
    "* Convert to tf record generator\n",
    "* Convert to batch predict for faster perfomrance"
   ],
   "cell_type": "markdown",
   "metadata": {}
  },
  {
   "cell_type": "code",
   "execution_count": null,
   "metadata": {},
   "outputs": [],
   "source": []
  }
 ]
}