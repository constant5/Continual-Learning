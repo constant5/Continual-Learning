{
 "metadata": {
  "language_info": {
   "codemirror_mode": {
    "name": "ipython",
    "version": 3
   },
   "file_extension": ".py",
   "mimetype": "text/x-python",
   "name": "python",
   "nbconvert_exporter": "python",
   "pygments_lexer": "ipython3",
   "version": "3.7.0-final"
  },
  "orig_nbformat": 2,
  "kernelspec": {
   "name": "python3",
   "display_name": "Python 3"
  }
 },
 "nbformat": 4,
 "nbformat_minor": 2,
 "cells": [
  {
   "cell_type": "code",
   "execution_count": 1,
   "metadata": {},
   "outputs": [],
   "source": [
    "# load modules\n",
    "%load_ext autoreload\n",
    "%autoreload 2\n",
    "from scripts.BZ2Reader import bz2reader\n",
    "import os\n",
    "from pprint import pprint"
   ]
  },
  {
   "cell_type": "code",
   "execution_count": 2,
   "metadata": {},
   "outputs": [],
   "source": [
    "# the bz2reader creates various generators for a bz2 file\n",
    "bz2 = bz2reader(os.path.join('data','RC_2011-08.bz2'))"
   ]
  },
  {
   "cell_type": "code",
   "execution_count": 3,
   "metadata": {},
   "outputs": [
    {
     "output_type": "execute_result",
     "data": {
      "text/plain": [
       "{'link_id': 't3_j4zx3',\n",
       " 'score_hidden': False,\n",
       " 'score': 1,\n",
       " 'archived': True,\n",
       " 'author_flair_text': None,\n",
       " 'subreddit': 'fffffffuuuuuuuuuuuu',\n",
       " 'body': '\"$2, would you take that deal? I\\'d take that deal\"',\n",
       " 'author': 'DorkyDude',\n",
       " 'distinguished': None,\n",
       " 'parent_id': 't3_j4zx3',\n",
       " 'id': 'c298mtc',\n",
       " 'subreddit_id': 't5_2qqlo',\n",
       " 'controversiality': 0,\n",
       " 'gilded': 0,\n",
       " 'downs': 0,\n",
       " 'retrieved_on': 1427415708,\n",
       " 'name': 't1_c298mtc',\n",
       " 'ups': 1,\n",
       " 'edited': False,\n",
       " 'author_flair_css_class': None,\n",
       " 'created_utc': '1312156800'}"
      ]
     },
     "metadata": {},
     "execution_count": 3
    }
   ],
   "source": [
    "# the simplest generator just yields a dictionary with all attributes for each post\n",
    "post_gen = bz2.read_lines()\n",
    "next(post_gen)"
   ]
  },
  {
   "cell_type": "code",
   "execution_count": 4,
   "metadata": {},
   "outputs": [
    {
     "output_type": "execute_result",
     "data": {
      "text/plain": [
       "{'subreddit': 'motorcycles',\n",
       " 'body': 'Have you wrecked in them yet?',\n",
       " 'created_utc': 1312156800}"
      ]
     },
     "metadata": {},
     "execution_count": 4
    }
   ],
   "source": [
    "# the select_keys generator return only the specified attributes\n",
    "keys = ['subreddit', 'body','created_utc']\n",
    "spec_post_gen = bz2.select_keys(keys = keys)\n",
    "next(spec_post_gen)"
   ]
  },
  {
   "cell_type": "code",
   "execution_count": 5,
   "metadata": {
    "tags": []
   },
   "outputs": [],
   "source": [
    "# is is also all possible to generate a dictionary with subreddit\n",
    "# as keys and list of all posts in that subreddit as values\n",
    "# be carefule with max_lines (selecting -1 for all posts will use \n",
    "# a lot of memory) \n",
    "keys = ['subreddit', 'body']\n",
    "bz2 = bz2reader(os.path.join('data','RC_2011-08.bz2'), keys=keys, max_lines=1e6)\n",
    "\n",
    "post_dict= bz2.build_structure()\n"
   ]
  },
  {
   "cell_type": "code",
   "execution_count": 7,
   "metadata": {
    "tags": []
   },
   "outputs": [
    {
     "output_type": "stream",
     "name": "stdout",
     "text": [
      "Number of subbreddits =  3682\n\nPrinting subreddits with at least 1000 posts\n\nfffffffuuuuuuuuuuuu  :  28190\nmotorcycles  :  2065\npolitics  :  19593\nWTF  :  10658\nmylittlepony  :  4121\nfood  :  1799\nreddit.com  :  37171\nfunny  :  25114\nAskReddit  :  124923\nAnarchism  :  1226\nMensRights  :  2090\nbattlefield3  :  1177\ntoronto  :  1055\nscience  :  1962\natheism  :  19135\nbuildapc  :  2358\npics  :  63678\nnfl  :  3487\nbooks  :  1952\nmalefashionadvice  :  2624\nDIY  :  1219\ntodayilearned  :  11879\nTwoXChromosomes  :  6206\ngonewild  :  4837\nstarcraft  :  18138\nLibertarian  :  3465\ntrees  :  17121\nMinecraft  :  8498\nphotography  :  1732\nvideos  :  15078\nIAmA  :  21386\nFrugal  :  2321\nasoiaf  :  1349\nharrypotter  :  4129\noffbeat  :  1113\nworldnews  :  10955\nFitness  :  5920\nleagueoflegends  :  8801\nlgbt  :  1398\nlinux  :  1969\ngameofthrones  :  2008\ngaming  :  38824\nketo  :  1189\ncanada  :  2870\napple  :  1700\nDebateReligion  :  1153\nPoliticalDiscussion  :  2078\nHeroesofNewerth  :  1483\nself  :  1808\naskscience  :  3095\ncars  :  1183\nloseit  :  2198\nscifi  :  1011\nrelationships  :  1761\npokemon  :  1509\nbaseball  :  1649\nDrugs  :  1007\nanime  :  1837\nMMA  :  1001\nmovies  :  3072\ndoctorwho  :  1464\nEconomics  :  1620\nexplainlikeimfive  :  3884\naustralia  :  1974\nWeAreTheMusicMakers  :  1031\ntf2  :  5652\nwow  :  2757\nnews  :  2053\nRandom_Acts_Of_Pizza  :  1347\nsex  :  3290\nChristianity  :  1754\nfirstworldproblems  :  1750\nmagicTCG  :  2059\nMusic  :  3082\nAndroid  :  4340\ncirclejerk  :  1565\nDoesAnybodyElse  :  1645\ngaymers  :  1136\nprogramming  :  3148\nguns  :  3577\nsoccer  :  3216\nGuitar  :  1361\ntechnology  :  3020\nunitedkingdom  :  1110\ntechsupport  :  1437\ngifs  :  1220\namiugly  :  1059\nAdviceAnimals  :  2249\nmetanarchism  :  1627\nrelationship_advice  :  1524\nbicycling  :  1399\nsports  :  1218\nnyc  :  1148\nseduction  :  1034\ntf2trade  :  1340\nDiablo  :  2148\nfitnesscirclejerk  :  1224\nbreakingbad  :  1073\nPottermore  :  1006\nchicago  :  1063\naww  :  1133\nEve  :  1135\nReviewThis  :  3261\n"
     ]
    }
   ],
   "source": [
    "print('Number of subbreddits = ', len(post_dict), end='\\n\\n')\n",
    "\n",
    "min_posts = 1000\n",
    "print(f'Printing subreddits with at least {min_posts} posts', end ='\\n\\n')\n",
    "\n",
    "for k, v in post_dict.items():\n",
    "    if len(v) > min_posts:\n",
    "        print(k,' : ', len(v))"
   ]
  },
  {
   "cell_type": "code",
   "execution_count": null,
   "metadata": {},
   "outputs": [],
   "source": []
  }
 ]
}